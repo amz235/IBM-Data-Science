{
 "cells": [
  {
   "cell_type": "markdown",
   "id": "e3e2d0f9-e021-4cc9-a5aa-049ccd953b4d",
   "metadata": {
    "tags": []
   },
   "source": [
    "<strong>Exercise 2 - Create a markdown cell with the title of the notebook.</strong>"
   ]
  },
  {
   "cell_type": "markdown",
   "id": "a80066e7-1d59-4db9-a6f3-26a0a5710d8b",
   "metadata": {
    "tags": []
   },
   "source": [
    "<h1>Data Science Tools and Ecosystem<h1>"
   ]
  },
  {
   "cell_type": "markdown",
   "id": "f770a23f-2c8b-459e-bcdc-0e994f4bd1d4",
   "metadata": {},
   "source": [
    "<strong> Exercise 3 - Create a markdown cell for an introduction. (1 pt)</strong>"
   ]
  },
  {
   "cell_type": "markdown",
   "id": "dd782905-2266-4421-97f2-1c72db12ae81",
   "metadata": {},
   "source": [
    "In this notebook, Data Science Tools and Ecosystem are summarized.\n",
    "\n"
   ]
  },
  {
   "cell_type": "markdown",
   "id": "05fb03df-0d04-4974-a4dc-b518ba02a1e9",
   "metadata": {},
   "source": [
    "<strong>Objectives:</strong>\n",
    "<ul>\n",
    "    <li>Popular languages that Data Scientists use.</li>\n",
    "    <li>Commonly used libraries used by Data Scientists.</li>\n",
    "    <li>Data Science tools.</li>\n",
    "</ul>"
   ]
  },
  {
   "cell_type": "markdown",
   "id": "f1a02417-8080-4ee7-b9e2-32f250f669aa",
   "metadata": {},
   "source": [
    "<strong>Exercise 4 - Create a markdown cell to list data science languages. (3 pts)</strong>"
   ]
  },
  {
   "cell_type": "markdown",
   "id": "21462170-de46-4678-a3d0-e472cf2fa888",
   "metadata": {},
   "source": [
    "Some of the popular languages that Data Scientists use are:\n",
    "<ul>\n",
    "    <li>Python.</li>\n",
    "    <li>R.</li>\n",
    "    <li>Java.</li>\n",
    "    <li>Julia.</li>\n",
    "    <li>Scala.</li>\n",
    "    <li>C/C++.</li>\n",
    "    <li>JavaScript.</li>\n",
    "</ul>"
   ]
  },
  {
   "cell_type": "markdown",
   "id": "86017cce-e5fc-4d80-88a2-aeed5d3c46ce",
   "metadata": {},
   "source": [
    "<strong>Exercise 5 - Create a markdown cell to list data science libraries. (3 pts)</strong>"
   ]
  },
  {
   "cell_type": "markdown",
   "id": "2141f7d9-e0fa-49f8-ad92-79c5d911da50",
   "metadata": {},
   "source": [
    "Some of the most commonly used libraries by Data Scientists are:\n",
    "<ul>\n",
    "    <li>TensorFlow.</li>\n",
    "    <li>NumPy.</li>\n",
    "    <li>SciPy.</li>\n",
    "    <li>Pandas.</li>\n",
    "    <li>Matplotlib.</li>\n",
    "    <li>Keras.</li>\n",
    "    <li>SciKit-Learn.</li>\n",
    "    <li>PyTorch.</li>\n",
    "    <li>Scrapy.</li>\n",
    "\n",
    "</ul>"
   ]
  },
  {
   "cell_type": "markdown",
   "id": "09eebdc7-2890-4d66-8882-3695f26c665c",
   "metadata": {},
   "source": [
    "<strong>Exercise 6 - Create a markdown cell with a table of Data Science tools. (3 pts)</strong>"
   ]
  },
  {
   "cell_type": "markdown",
   "id": "306f04d0-b736-4115-a7b6-329726cdf804",
   "metadata": {},
   "source": [
    "\n",
    "\n",
    "\n",
    "<table style=\"width:100%\">\n",
    "  <tr>\n",
    "    <th>Apache Spark</th>\n",
    "  </tr>\n",
    "  <tr>\n",
    "    <td>NLTK</td>\n",
    "  </tr>\n",
    "  <tr>\n",
    "    <td>Apache Hadoop</td>\n",
    "  </tr>\n",
    "  <tr>\n",
    "    <td>SAS</td>\n",
    "  </tr>\n",
    "  <tr>\n",
    "    <td>KNIME</td>\n",
    "  <tr>\n",
    "    <td>DATARobot</td>\n",
    "  </tr>    \n",
    "</table>"
   ]
  },
  {
   "cell_type": "markdown",
   "id": "7b589079-3fd6-47aa-bf54-a0ca66f91fb2",
   "metadata": {},
   "source": [
    "<strong>Exercise 7 - Create a markdown cell introducing arithmetic expression examples.</strong>"
   ]
  },
  {
   "cell_type": "code",
   "execution_count": 14,
   "id": "552296a0-9a79-4219-87c8-50c7fd57c9b5",
   "metadata": {},
   "outputs": [
    {
     "name": "stdout",
     "output_type": "stream",
     "text": [
      "-0.2679491924311228 -3.732050807568877\n"
     ]
    }
   ],
   "source": [
    "import math as m\n",
    "\n",
    "b=4\n",
    "a=c=1\n",
    "x1=(-b+m.sqrt(b**2-4*a*c))/(2*a)\n",
    "x2=(-b-m.sqrt(b**2-4*a*c))/(2*a)\n",
    "print(x1,x2)"
   ]
  },
  {
   "cell_type": "markdown",
   "id": "9009e8f7-062d-4b73-97f8-edd88014ab11",
   "metadata": {},
   "source": [
    "<strong>Exercise 8 - Create a code cell to multiply and add numbers.</strong>"
   ]
  },
  {
   "cell_type": "code",
   "execution_count": 15,
   "id": "77cc498a-8f9a-4dab-9c9c-3aee9e2291aa",
   "metadata": {},
   "outputs": [
    {
     "data": {
      "text/plain": [
       "197"
      ]
     },
     "execution_count": 15,
     "metadata": {},
     "output_type": "execute_result"
    }
   ],
   "source": [
    "(7*2)**2+1"
   ]
  },
  {
   "cell_type": "markdown",
   "id": "8a45332e-55f5-483c-b010-9ab568ceadab",
   "metadata": {},
   "source": [
    "<strong>Exercise 9 - Create a code cell to convert minutes to hours. </strong>"
   ]
  },
  {
   "cell_type": "code",
   "execution_count": 18,
   "id": "0417fe7a-d8bb-4016-b4b9-bc1641b0ce26",
   "metadata": {},
   "outputs": [
    {
     "name": "stdout",
     "output_type": "stream",
     "text": [
      "200 minutes --> 3.3333333333333335 hours\n"
     ]
    }
   ],
   "source": [
    "mins = 200\n",
    "\n",
    "hours = mins / 60\n",
    "print(f\"{mins} minutes --> {hours} hours\")"
   ]
  },
  {
   "cell_type": "markdown",
   "id": "c00c026b-9d8f-4a80-903f-edf7d7ea394e",
   "metadata": {},
   "source": [
    "<strong>Exercise 10 -Insert a markdown cell to list Objectives.</strong>"
   ]
  },
  {
   "cell_type": "markdown",
   "id": "a26180f6-cca9-4cc0-9fb2-f467be67d279",
   "metadata": {},
   "source": [
    "Below the introduction cell created in Exercise 3, insert a new markdown cell to list the objectives that this notebook covered (i.e. some of the key takeaways from the course). In this new cell start with an introductory line titled: Objectives: in bold font. Then using an unordered list (bullets) indicate 3 to 5 items covered in this notebook, such as List popular languages for Data Science."
   ]
  },
  {
   "cell_type": "markdown",
   "id": "799bff53-d9ec-469c-aec5-90a1e639db47",
   "metadata": {},
   "source": [
    "<strong>Exercise 11 - Create a markdown cell to indicate the Author’s name.</strong>"
   ]
  },
  {
   "cell_type": "markdown",
   "id": "75dd09da-26d7-4b69-966b-348737ef5b37",
   "metadata": {
    "tags": []
   },
   "source": [
    "<h2>Author:</h2> Amer Obeidat"
   ]
  },
  {
   "cell_type": "code",
   "execution_count": null,
   "id": "1f946b48-888c-4f57-b1a6-74c8f4a9d052",
   "metadata": {},
   "outputs": [],
   "source": []
  }
 ],
 "metadata": {
  "kernelspec": {
   "display_name": "Python 3 (ipykernel)",
   "language": "python",
   "name": "python3"
  },
  "language_info": {
   "codemirror_mode": {
    "name": "ipython",
    "version": 3
   },
   "file_extension": ".py",
   "mimetype": "text/x-python",
   "name": "python",
   "nbconvert_exporter": "python",
   "pygments_lexer": "ipython3",
   "version": "3.9.13"
  }
 },
 "nbformat": 4,
 "nbformat_minor": 5
}
